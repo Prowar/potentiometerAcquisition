{
 "cells": [
  {
   "cell_type": "markdown",
   "metadata": {},
   "source": [
    "En este programa haremos adquisición de datos desde el Arduino, el cual tiene conectado a una de sus entradas análogas (A0) un potenciómetro. A su vez, esta señal pasa por un ADC el cual mapea nuestro voltaje de entrada ($0 - 5 [V]$) con una resolución de $2^{10}$ bits, haciendo que tengamos una lectura entre 0 y 1023 valores diferentes. \n",
    "\n",
    "Lo primero que debemos hacer para realizar la conexión y adquirir datos es importar las librerías necesarias:"
   ]
  },
  {
   "cell_type": "code",
   "execution_count": null,
   "metadata": {},
   "outputs": [],
   "source": [
    "%matplotlib notebook\n",
    "\n",
    "import serial\n",
    "import numpy as np\n",
    "import sys\n",
    "from serial.tools.list_ports import comports\n",
    "from matplotlib import pyplot as plt\n",
    "from time import time"
   ]
  },
  {
   "cell_type": "markdown",
   "metadata": {},
   "source": [
    "El siguiente paso es detectar dónde está conectado el Arduino. Para ello usamos la siguiente función:"
   ]
  },
  {
   "cell_type": "code",
   "execution_count": null,
   "metadata": {},
   "outputs": [],
   "source": [
    "def dump_port_list():\n",
    "    \"\"\" \n",
    "    Función que imprime en pantalla todos los puertos disponibles, para así ver dónde está conectado nuestro Arduino\n",
    "    \"\"\"\n",
    "    if comports:\n",
    "        sys.stderr.write('\\n--- Puertos disponibles:\\n')\n",
    "        for port, desc, hwid in sorted(comports()):\n",
    "            sys.stderr.write('--- %-20s %s\\n' % (port, desc))"
   ]
  },
  {
   "cell_type": "code",
   "execution_count": null,
   "metadata": {
    "scrolled": true
   },
   "outputs": [],
   "source": [
    "dump_port_list()"
   ]
  },
  {
   "cell_type": "markdown",
   "metadata": {},
   "source": [
    "Una vez que ya conocemos el puerto al cual nuestro Arduino está conectado, hacemos la conexión usando las librería Pyserial. La siguiente línea de código DEBE ser modificada en caso de que el puerto seleccionado no sea el que corresponda. Nota"
   ]
  },
  {
   "cell_type": "code",
   "execution_count": null,
   "metadata": {},
   "outputs": [],
   "source": [
    "# Seleccionamos el puerto COM3 con un baudrate = 115200. Es importante que este baudrate COINCIDA con el que tiene el\n",
    "# Arduino cargado en su memoria\n",
    "ser = serial.Serial('COM3', 115200)"
   ]
  },
  {
   "cell_type": "markdown",
   "metadata": {},
   "source": [
    "A continuación inicializamos las variables utilizadas durante la adquisición de datos. Además, seteamos las opciones para el gráfico que se mostrará. En la siguiente parte del código comienza la adquisición efectiva de datos. Entramos en un loop que durará duration segundos, es decir, 10 segundos. Una vez terminado este tiempo, termina la adquisición y se grafica todo lo obtenido en una nueva figura. Se grafica en forma de animación todos los datos capturados"
   ]
  },
  {
   "cell_type": "code",
   "execution_count": null,
   "metadata": {},
   "outputs": [],
   "source": [
    "# Comenzamos un gráfico animado\n",
    "plt.ion() \n",
    "# Inicialización de variables globales que contendrán los datos\n",
    "start_time = time()\n",
    "timepoints = []\n",
    "ydata = []\n",
    "yrange = [-0.1,5.1]\n",
    "# Segundos que serán visualizados a la vez\n",
    "view_time = 4\n",
    "# Duración total que correrá la adquisición antes de finalizar\n",
    "duration = 10\n",
    "\n",
    "# Inicialización de parámetros para el primer gráfico (adquisición tiempo real)\n",
    "fig1 = plt.figure()\n",
    "fig1.suptitle('Adquisicion de datos en tiempo real', fontsize='20', fontweight ='bold')\n",
    "plt.xlabel('Tiempo [s]', fontsize ='14', fontstyle ='italic')\n",
    "plt.ylabel('Voltaje [V]', fontsize ='14', fontstyle ='italic')\n",
    "plt.axes().grid(True)\n",
    "line1, = plt.plot(ydata, marker ='o', markersize = 4, linestyle = 'none', markerfacecolor = 'red')\n",
    "plt.ylim(yrange)\n",
    "plt.xlim([0,view_time])\n",
    "\n",
    "# Limpia cualquier dato que pudiera estar en el búfer serial \n",
    "ser.flushInput()\n",
    "# Inicialización variable que llevará control del tiempo que corre la adquisición\n",
    "run = True\n",
    "while run:\n",
    "    # Reinicia el búfer serial\n",
    "    ser.reset_input_buffer()\n",
    "    # Lee el dato entregado por Arduino de formas erial\n",
    "    data = ser.readline().split(' ')\n",
    "    \n",
    "    # Dado que a veces los datos son solo basura, \"intentamos\" realizar el gráfico, de otra forma, no hacemos nada. \n",
    "    try:\n",
    "        # Guardamos todos los datos obtenidos en ydata\n",
    "        ydata.append(float(data[0]) * 5.0 / 1024)\n",
    "        # Agregamos el tiempo actual transcurrido\n",
    "        #timepoints.append(time()-start_time)\n",
    "        timepoints.append(time()-start_time)\n",
    "        # Obtenemos el último elemento de la lista (o sea, el tiempo actual)\n",
    "        current_time = timepoints[-1]\n",
    "        \n",
    "        # Actualizamos gráfico con los nuevos datos\n",
    "        line1.set_xdata(timepoints)\n",
    "        line1.set_ydata(ydata)\n",
    "        \n",
    "        # Deslizamos el gráfico si excedimos la cantidad de view_time segundos. Actualizamos eje x.\n",
    "        if current_time > view_time:\n",
    "            plt.xlim([current_time - view_time,current_time])\n",
    "            \n",
    "        # Cuando el tiempo se acabe (se alcance duration), salimos del loop y dejamos de adquirir datos\n",
    "        if timepoints[-1] > duration: \n",
    "            run = False\n",
    "    \n",
    "    # Si por alguna razón detecta un error en la adquisición de datos, simplemente lo ignoramos y hacemos nada. \n",
    "    except: \n",
    "        pass\n",
    "    \n",
    "    # Se actualiza el gráfico\n",
    "    fig1.canvas.draw()"
   ]
  },
  {
   "cell_type": "markdown",
   "metadata": {},
   "source": [
    "Ahora graficamos todos los datos capturados desde 0 hasta duration y finalmente se cierra el puerto."
   ]
  },
  {
   "cell_type": "code",
   "execution_count": null,
   "metadata": {},
   "outputs": [],
   "source": [
    "# Gráfico que contendrá todos los datos obtenidos\n",
    "fig2 = plt.figure()\n",
    "fig2.suptitle('Datos completos obtenidos', fontsize = '20', fontweight = 'bold')\n",
    "plt.xlabel('Tiempo [s]', fontsize = '14', fontstyle = 'italic')\n",
    "plt.ylabel('Voltaje [V]' , fontsize= '14', fontstyle = 'italic')\n",
    "plt.axes().grid(True)\n",
    "\n",
    "plt.plot(timepoints, ydata, marker= 'o',markersize = 4,linestyle = 'none',markerfacecolor = 'red')\n",
    "plt.ylim(yrange)\n",
    "fig2.show()\n",
    "# Cerramos el puerto del dispositivo\n",
    "ser.close()"
   ]
  },
  {
   "cell_type": "code",
   "execution_count": null,
   "metadata": {},
   "outputs": [],
   "source": []
  }
 ],
 "metadata": {
  "kernelspec": {
   "display_name": "Python 2",
   "language": "python",
   "name": "python2"
  },
  "language_info": {
   "codemirror_mode": {
    "name": "ipython",
    "version": 2
   },
   "file_extension": ".py",
   "mimetype": "text/x-python",
   "name": "python",
   "nbconvert_exporter": "python",
   "pygments_lexer": "ipython2",
   "version": "2.7.14"
  }
 },
 "nbformat": 4,
 "nbformat_minor": 2
}
